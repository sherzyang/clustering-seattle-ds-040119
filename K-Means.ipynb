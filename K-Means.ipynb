{
 "cells": [
  {
   "cell_type": "markdown",
   "metadata": {},
   "source": [
    "![img](http://drive.google.com/uc?export=view&id=1Gi4lNIANsWjxlvikM4h1Xein_PPwhHgM)\n",
    "# **Introduction to K-means**"
   ]
  },
  {
   "cell_type": "markdown",
   "metadata": {},
   "source": [
    "## **Part 1**: Concept introduction\n",
    "#### Import libraries and download dataset\n",
    "\n",
    "We are continuing to use Scikit-Learn as our primary ML library.\n",
    "The specific documentation for [k-means can be found here](http://scikit-learn.org/stable/modules/generated/sklearn.cluster.KMeans.html).\n",
    "\n",
    "![img](http://drive.google.com/uc?export=view&id=12uOIWDlAk5YRgy9FOALfUlK0fVt5JTvH)"
   ]
  },
  {
   "cell_type": "code",
   "execution_count": 1,
   "metadata": {},
   "outputs": [],
   "source": [
    "# Required packages for today\n",
    "from sklearn.cluster import KMeans\n",
    "from sklearn import metrics\n",
    "from sklearn import datasets\n",
    "\n",
    "# Familiar packages for plotting, data manipulation, and numeric functions\n",
    "import matplotlib.pyplot as plt\n",
    "import pandas as pd\n",
    "import numpy as np\n",
    "\n",
    "# Have plots appear in notebook\n",
    "%matplotlib inline\n",
    "\n",
    "# Default plot params\n",
    "plt.style.use('seaborn')\n",
    "cmap = 'tab10'"
   ]
  },
  {
   "cell_type": "markdown",
   "metadata": {},
   "source": [
    "#### Data for later in the exercise"
   ]
  },
  {
   "cell_type": "code",
   "execution_count": 2,
   "metadata": {},
   "outputs": [],
   "source": [
    "url = 'https://raw.githubusercontent.com/mubaris/friendly-fortnight/master/xclara.csv'\n",
    "test = pd.read_csv(url)"
   ]
  },
  {
   "cell_type": "markdown",
   "metadata": {},
   "source": [
    "## Clustering!   Finding **GROUPS**\n",
    "\n",
    "How many groups do you see?\n",
    "\n",
    "![img](http://drive.google.com/uc?export=view&id=1am-0t4grAQueYP9IMmgV0dC4MHWTKd6h)\n"
   ]
  },
  {
   "cell_type": "markdown",
   "metadata": {},
   "source": [
    "## Intuitive K means approach\n",
    "\n",
    "### Observe the following four methods with a sample dataset:\n",
    "\n",
    "#### Method 1"
   ]
  },
  {
   "cell_type": "markdown",
   "metadata": {},
   "source": [
    "[Method 1](http://drive.google.com/uc?export=view&id=1rQsgwmbeKsf9lgAv4onHJQMNqYcXZ1cr)"
   ]
  },
  {
   "cell_type": "markdown",
   "metadata": {},
   "source": [
    "#### Method 2"
   ]
  },
  {
   "cell_type": "markdown",
   "metadata": {},
   "source": [
    "[Method 2](http://drive.google.com/uc?export=view&id=1duSB73v8ugD5liZyn5dUeSOgwvAbdgui)"
   ]
  },
  {
   "cell_type": "markdown",
   "metadata": {},
   "source": [
    "#### Method 3"
   ]
  },
  {
   "cell_type": "markdown",
   "metadata": {},
   "source": [
    "[Method 3](http://drive.google.com/uc?export=view&id=1ZRa7oAskuwSQxLqEyYQc8FZWjERnQx_e)"
   ]
  },
  {
   "cell_type": "markdown",
   "metadata": {},
   "source": [
    "#### Method 4"
   ]
  },
  {
   "cell_type": "markdown",
   "metadata": {},
   "source": [
    "[Method 4](http://drive.google.com/uc?export=view&id=1TE62xmACOaux75AlzivcP7tSzR86n8ZE)"
   ]
  },
  {
   "cell_type": "markdown",
   "metadata": {},
   "source": [
    "### Method Questions:\n",
    "\n",
    "- What do they have in common?\n",
    "- What are the differences between them?\n",
    "- How many groups are there in the end?\n",
    "- Do you see any problems with this method?"
   ]
  },
  {
   "cell_type": "markdown",
   "metadata": {},
   "source": [
    "### Review Data\n",
    "\n",
    "We will now use the dataset we uploaded earlier:\n",
    "\n",
    "`url = 'https://raw.githubusercontent.com/mubaris/friendly-fortnight/master/xclara.csv'`\n",
    "\n",
    "`test = pd.read_csv(url)`\n",
    "\n",
    "- This is a sample dataset. \n",
    "- Let us assume the data is already scaled."
   ]
  },
  {
   "cell_type": "markdown",
   "metadata": {},
   "source": [
    "#### EDA of variables"
   ]
  },
  {
   "cell_type": "code",
   "execution_count": 3,
   "metadata": {},
   "outputs": [
    {
     "data": {
      "text/html": [
       "<div>\n",
       "<style scoped>\n",
       "    .dataframe tbody tr th:only-of-type {\n",
       "        vertical-align: middle;\n",
       "    }\n",
       "\n",
       "    .dataframe tbody tr th {\n",
       "        vertical-align: top;\n",
       "    }\n",
       "\n",
       "    .dataframe thead th {\n",
       "        text-align: right;\n",
       "    }\n",
       "</style>\n",
       "<table border=\"1\" class=\"dataframe\">\n",
       "  <thead>\n",
       "    <tr style=\"text-align: right;\">\n",
       "      <th></th>\n",
       "      <th>V1</th>\n",
       "      <th>V2</th>\n",
       "    </tr>\n",
       "  </thead>\n",
       "  <tbody>\n",
       "    <tr>\n",
       "      <th>count</th>\n",
       "      <td>3000.000000</td>\n",
       "      <td>3000.000000</td>\n",
       "    </tr>\n",
       "    <tr>\n",
       "      <th>mean</th>\n",
       "      <td>40.611358</td>\n",
       "      <td>22.862141</td>\n",
       "    </tr>\n",
       "    <tr>\n",
       "      <th>std</th>\n",
       "      <td>25.859054</td>\n",
       "      <td>31.759714</td>\n",
       "    </tr>\n",
       "    <tr>\n",
       "      <th>min</th>\n",
       "      <td>-22.495990</td>\n",
       "      <td>-38.795500</td>\n",
       "    </tr>\n",
       "    <tr>\n",
       "      <th>25%</th>\n",
       "      <td>18.462790</td>\n",
       "      <td>-4.003494</td>\n",
       "    </tr>\n",
       "    <tr>\n",
       "      <th>50%</th>\n",
       "      <td>41.552210</td>\n",
       "      <td>13.827390</td>\n",
       "    </tr>\n",
       "    <tr>\n",
       "      <th>75%</th>\n",
       "      <td>62.249480</td>\n",
       "      <td>55.729100</td>\n",
       "    </tr>\n",
       "    <tr>\n",
       "      <th>max</th>\n",
       "      <td>104.376600</td>\n",
       "      <td>87.313700</td>\n",
       "    </tr>\n",
       "  </tbody>\n",
       "</table>\n",
       "</div>"
      ],
      "text/plain": [
       "                V1           V2\n",
       "count  3000.000000  3000.000000\n",
       "mean     40.611358    22.862141\n",
       "std      25.859054    31.759714\n",
       "min     -22.495990   -38.795500\n",
       "25%      18.462790    -4.003494\n",
       "50%      41.552210    13.827390\n",
       "75%      62.249480    55.729100\n",
       "max     104.376600    87.313700"
      ]
     },
     "execution_count": 3,
     "metadata": {},
     "output_type": "execute_result"
    }
   ],
   "source": [
    "test.describe()"
   ]
  },
  {
   "cell_type": "markdown",
   "metadata": {},
   "source": [
    "#### Introduction of `Kmeans`"
   ]
  },
  {
   "cell_type": "code",
   "execution_count": 4,
   "metadata": {},
   "outputs": [],
   "source": [
    "model = KMeans(n_clusters=4).fit(test)"
   ]
  },
  {
   "cell_type": "code",
   "execution_count": 5,
   "metadata": {},
   "outputs": [
    {
     "data": {
      "text/plain": [
       "array([[ 47.77461177,  59.01178406],\n",
       "       [ 69.92418447, -10.11964119],\n",
       "       [  9.45577774,  10.66209744],\n",
       "       [ 31.44293118,  60.57619674]])"
      ]
     },
     "execution_count": 5,
     "metadata": {},
     "output_type": "execute_result"
    }
   ],
   "source": [
    "model.cluster_centers_"
   ]
  },
  {
   "cell_type": "markdown",
   "metadata": {},
   "source": [
    "## Note! \n",
    "#### Do you have different cluster_centers?\n",
    "*Good!*\n",
    "\n",
    "We saw in the demo that the algorithm is sensitive to starting points.\n",
    "\n",
    "We can use the additional argument `random_state` to set the seed and have a repeatable results"
   ]
  },
  {
   "cell_type": "code",
   "execution_count": 6,
   "metadata": {},
   "outputs": [
    {
     "data": {
      "text/plain": [
       "array([[ 48.09974943,  59.34612869],\n",
       "       [ 69.92418447, -10.11964119],\n",
       "       [  9.45577774,  10.66209744],\n",
       "       [ 31.77135822,  60.10656849]])"
      ]
     },
     "execution_count": 6,
     "metadata": {},
     "output_type": "execute_result"
    }
   ],
   "source": [
    "model_setseed = KMeans(n_clusters=4, random_state=10).fit(test)\n",
    "model_setseed.cluster_centers_"
   ]
  },
  {
   "cell_type": "code",
   "execution_count": 12,
   "metadata": {},
   "outputs": [
    {
     "ename": "NameError",
     "evalue": "name 'data' is not defined",
     "output_type": "error",
     "traceback": [
      "\u001b[0;31m---------------------------------------------------------------------------\u001b[0m",
      "\u001b[0;31mNameError\u001b[0m                                 Traceback (most recent call last)",
      "\u001b[0;32m<ipython-input-12-c8644be457c1>\u001b[0m in \u001b[0;36m<module>\u001b[0;34m\u001b[0m\n\u001b[0;32m----> 1\u001b[0;31m \u001b[0mmodel\u001b[0m\u001b[0;34m.\u001b[0m\u001b[0mpredict\u001b[0m\u001b[0;34m(\u001b[0m\u001b[0mdata\u001b[0m\u001b[0;34m)\u001b[0m\u001b[0;34m\u001b[0m\u001b[0;34m\u001b[0m\u001b[0m\n\u001b[0m",
      "\u001b[0;31mNameError\u001b[0m: name 'data' is not defined"
     ]
    }
   ],
   "source": [
    "model.predict(data)"
   ]
  },
  {
   "cell_type": "code",
   "execution_count": 7,
   "metadata": {},
   "outputs": [],
   "source": [
    "import pickle "
   ]
  },
  {
   "cell_type": "code",
   "execution_count": 8,
   "metadata": {},
   "outputs": [],
   "source": [
    "with open('clustering_model.pkl', 'wb') as f:\n",
    "    pickle.dump(model, f)"
   ]
  },
  {
   "cell_type": "code",
   "execution_count": 9,
   "metadata": {},
   "outputs": [
    {
     "name": "stdout",
     "output_type": "stream",
     "text": [
      "\u001b[31mK-Means.ipynb\u001b[m\u001b[m        README.md            clustering_model.pkl\r\n"
     ]
    }
   ],
   "source": [
    "!ls"
   ]
  },
  {
   "cell_type": "code",
   "execution_count": 10,
   "metadata": {},
   "outputs": [],
   "source": [
    "with open('clustering_model.pkl', 'rb') as f:\n",
    "    resurrected_model = pickle.load(f)"
   ]
  },
  {
   "cell_type": "code",
   "execution_count": 11,
   "metadata": {},
   "outputs": [
    {
     "ename": "NameError",
     "evalue": "name 'data' is not defined",
     "output_type": "error",
     "traceback": [
      "\u001b[0;31m---------------------------------------------------------------------------\u001b[0m",
      "\u001b[0;31mNameError\u001b[0m                                 Traceback (most recent call last)",
      "\u001b[0;32m<ipython-input-11-f0d67181647d>\u001b[0m in \u001b[0;36m<module>\u001b[0;34m\u001b[0m\n\u001b[0;32m----> 1\u001b[0;31m \u001b[0mresurrected_model\u001b[0m\u001b[0;34m.\u001b[0m\u001b[0mpredict\u001b[0m\u001b[0;34m(\u001b[0m\u001b[0mdata\u001b[0m\u001b[0;34m)\u001b[0m\u001b[0;34m\u001b[0m\u001b[0;34m\u001b[0m\u001b[0m\n\u001b[0m",
      "\u001b[0;31mNameError\u001b[0m: name 'data' is not defined"
     ]
    }
   ],
   "source": [
    "resurrected_model.predict(data)"
   ]
  },
  {
   "cell_type": "markdown",
   "metadata": {},
   "source": [
    "#### **Exercise**: \n",
    "- Try running `Kmeans` with different number of `n_clusters`, k=2 through k=7\n",
    "- Check the `cluster_centers_` \n",
    "- Without running any more functions, which number of K is the best?"
   ]
  },
  {
   "cell_type": "code",
   "execution_count": 17,
   "metadata": {},
   "outputs": [
    {
     "data": {
      "text/plain": [
       "array([[ 78.62132436,  -9.9770007 ],\n",
       "       [  9.39317958,  10.68489975],\n",
       "       [ 48.02195126,  59.32887199],\n",
       "       [ 61.83031972, -10.20781682],\n",
       "       [ 31.67711429,  60.13652232]])"
      ]
     },
     "execution_count": 17,
     "metadata": {},
     "output_type": "execute_result"
    }
   ],
   "source": [
    "#Practice code goes here\n",
    "model5 = KMeans(n_clusters=5, random_state=10).fit(test)\n",
    "model5.cluster_centers_\n",
    "\n"
   ]
  },
  {
   "cell_type": "markdown",
   "metadata": {},
   "source": [
    "## **Part 2**: Choosing the appropriate number of K\n",
    "\n",
    "#### Two metrics we can use: **elbow method** and the **silhouette coefficient**\n",
    "\n",
    "### **Part 2A**: Elbow Method"
   ]
  },
  {
   "cell_type": "code",
   "execution_count": 18,
   "metadata": {},
   "outputs": [
    {
     "data": {
      "image/png": "[encoded data removed]",
      "text/plain": [
       "<Figure size 1080x576 with 1 Axes>"
      ]
     },
     "metadata": {
      "needs_background": "light"
     },
     "output_type": "display_data"
    }
   ],
   "source": [
    "# Specifying the dataset and initializing variables\n",
    "X = test\n",
    "distorsions = []\n",
    "\n",
    "# Calculate SSE for different K\n",
    "for k in range(2, 10):\n",
    "    kmeans = KMeans(n_clusters=k, random_state=301)\n",
    "    kmeans.fit(X)\n",
    "    distorsions.append(kmeans.inertia_)\n",
    "\n",
    "# Plot values of SSE\n",
    "plt.figure(figsize=(15,8))\n",
    "plt.subplot(121, title='Elbow curve')\n",
    "plt.xlabel('k')\n",
    "plt.plot(range(2, 10), distorsions)\n",
    "plt.grid(True)\n"
   ]
  },
  {
   "cell_type": "markdown",
   "metadata": {},
   "source": [
    "### **Part 2B**: Silhouette coefficient"
   ]
  },
  {
   "cell_type": "code",
   "execution_count": 19,
   "metadata": {},
   "outputs": [],
   "source": [
    "# Generate silhouette coefficient for each k\n",
    "X = test\n",
    "silhouette_plot = []\n",
    "for k in range(2, 10):\n",
    "    clusters = KMeans(n_clusters=k, random_state=10)\n",
    "    cluster_labels = clusters.fit_predict(X)\n",
    "    silhouette_avg = metrics.silhouette_score(X, cluster_labels)\n",
    "    silhouette_plot.append(silhouette_avg)"
   ]
  },
  {
   "cell_type": "code",
   "execution_count": 20,
   "metadata": {},
   "outputs": [
    {
     "data": {
      "image/png": "[encoded data removed]",
      "text/plain": [
       "<Figure size 1080x576 with 1 Axes>"
      ]
     },
     "metadata": {
      "needs_background": "light"
     },
     "output_type": "display_data"
    }
   ],
   "source": [
    "# Plot Silhouette coefficient\n",
    "plt.figure(figsize=(15,8))\n",
    "plt.subplot(121, title='Silhouette coefficients over k')\n",
    "plt.xlabel('k')\n",
    "plt.ylabel('silhouette coefficient')\n",
    "plt.plot(range(2, 10), silhouette_plot)\n",
    "plt.axhline(y=np.mean(silhouette_plot), color=\"red\", linestyle=\"--\")\n",
    "plt.grid(True)"
   ]
  },
  {
   "cell_type": "markdown",
   "metadata": {},
   "source": [
    "## **Part 3**: **Assumptions** and **challenges** of K-means\n",
    "\n",
    "- Demonstrate the ideal K-means dataset\n",
    "- Show three scenarios where K-means struggles"
   ]
  },
  {
   "cell_type": "code",
   "execution_count": null,
   "metadata": {},
   "outputs": [],
   "source": [
    "# Create example datasets\n",
    "\n",
    "# Toy data sets\n",
    "centers_neat = [(-10, 10), (0, -5), (10, 5)]\n",
    "x_neat, _ = datasets.make_blobs(n_samples=5000,\n",
    "                                centers=centers_neat,\n",
    "                                cluster_std=2,\n",
    "                                random_state=2)\n",
    "\n",
    "x_messy, labs3 = datasets.make_classification(n_samples=5000,\n",
    "                                         n_features=10,\n",
    "                                          n_classes=3,\n",
    "                                          n_clusters_per_class=1,\n",
    "                                          class_sep=1.5,\n",
    "                                          shuffle=False,\n",
    "                                          random_state=301)"
   ]
  },
  {
   "cell_type": "code",
   "execution_count": null,
   "metadata": {},
   "outputs": [],
   "source": [
    "# Predict K-Means cluster membership\n",
    "km_neat = KMeans(n_clusters=3, random_state=2).fit_predict(x_neat)\n",
    "km_messy = KMeans(n_clusters=3, random_state=2).fit_predict(x_messy)\n",
    "km_messy2 = KMeans(n_clusters=3, random_state=2).fit(x_messy)"
   ]
  },
  {
   "cell_type": "markdown",
   "metadata": {},
   "source": [
    "#### Ideal K-means scenario"
   ]
  },
  {
   "cell_type": "code",
   "execution_count": null,
   "metadata": {},
   "outputs": [],
   "source": [
    "# Ideal K-means scenario\n",
    "plt.figure(figsize=(15,8))\n",
    "plt.subplot(121, title='Ideal K-Means')\n",
    "plt.scatter(x_neat[:,0], x_neat[:,1])"
   ]
  },
  {
   "cell_type": "markdown",
   "metadata": {},
   "source": [
    "#### Problem Scenario 1"
   ]
  },
  {
   "cell_type": "code",
   "execution_count": null,
   "metadata": {},
   "outputs": [],
   "source": [
    "# Problem Scenario 1\n",
    "\n",
    "plt.figure(figsize=(15,8))\n",
    "plt.subplot(121, title='Problem Cluster Example 1')\n",
    "plt.scatter(x_messy[:,0], x_messy[:,1], c=labs3,  cmap=cmap)\n",
    "plt.subplot(122, title='Problem Cluster Example 1 K-means labels')\n",
    "plt.scatter(x_messy[:,0], x_messy[:,1], c=km_messy, cmap=cmap)\n",
    "plt.scatter(km_messy2.cluster_centers_[:,0], km_messy2.cluster_centers_[:,1], marker='X', s=150, c='black')"
   ]
  },
  {
   "cell_type": "markdown",
   "metadata": {},
   "source": [
    "#### Problem Scenario 2"
   ]
  },
  {
   "cell_type": "code",
   "execution_count": null,
   "metadata": {},
   "outputs": [],
   "source": [
    "# Problem Scenario 2\n",
    "\n",
    "\n",
    "# Second toy data set\n",
    "blob1, y1 = datasets.make_blobs(n_samples=25,\n",
    "                               centers=[(10,5)],\n",
    "                               cluster_std=1.5,\n",
    "                               random_state=2)\n",
    "\n",
    "blob2, y2 = datasets.make_blobs(n_samples=500,\n",
    "                               centers=[(6,2)],\n",
    "                               cluster_std=1.3,\n",
    "                               random_state=2)\n",
    "\n",
    "blob3, y3 = datasets.make_blobs(n_samples=500,\n",
    "                               centers=[(2,5)],\n",
    "                               cluster_std=1,\n",
    "                               random_state=2)\n",
    "\n",
    "unbal = np.vstack([blob1, blob2, blob3])\n",
    "y1[y1 == 0] = 0\n",
    "y2[y2 == 0] = 1\n",
    "y3[y3 == 0] = 2\n",
    "labs = np.concatenate([y1, y2, y3])\n",
    "\n",
    "#Predict K-Means cluster membership\n",
    "km_unbal = KMeans(n_clusters=3, random_state=2).fit(unbal)\n",
    "km_unbal_preds = KMeans(n_clusters=3, random_state=2).fit_predict(unbal)\n",
    "\n",
    "plt.figure(figsize=(15,8))\n",
    "plt.subplot(121, title= 'Problem Clusters Example 2')\n",
    "plt.scatter(unbal[:,0], unbal[:,1], c=labs, cmap=cmap)\n",
    "plt.subplot(122, title='Problem Clusters Example 2 K-means labels')\n",
    "plt.scatter(unbal[:,0], unbal[:,1], c=km_unbal_preds, cmap=cmap)\n",
    "plt.scatter(km_unbal.cluster_centers_[:,0], km_unbal.cluster_centers_[:,1], marker='X', s=150, c='black')"
   ]
  },
  {
   "cell_type": "markdown",
   "metadata": {},
   "source": [
    "#### Problem Scenario 3"
   ]
  },
  {
   "cell_type": "code",
   "execution_count": null,
   "metadata": {},
   "outputs": [],
   "source": [
    "# Problem Scenario 3\n",
    "\n",
    "# Third toy data set\n",
    "blob1, y1 = datasets.make_blobs(n_samples=100,\n",
    "                               centers=[(10,8)],\n",
    "                               cluster_std=0.5,\n",
    "                               random_state=2)\n",
    "\n",
    "blob2, y2 = datasets.make_blobs(n_samples=600,\n",
    "                               centers=[(2,2)],\n",
    "                               cluster_std=2.5,\n",
    "                               random_state=2)\n",
    "\n",
    "\n",
    "unbal = np.vstack([blob1, blob2])\n",
    "y1[y1 == 0] = 0\n",
    "y2[y2 == 0] = 1\n",
    "labs = np.concatenate([y1, y2])\n",
    "\n",
    "#Predict K-Means cluster membership\n",
    "km_unbal = KMeans(n_clusters=2, random_state=2).fit(unbal)\n",
    "km_unbal_preds = KMeans(n_clusters=2, random_state=2).fit_predict(unbal)\n",
    "\n",
    "plt.figure(figsize=(15,8))\n",
    "plt.subplot(121, title='Problem Clusters Example 3')\n",
    "plt.scatter(unbal[:,0], unbal[:,1])\n",
    "plt.subplot(122, title='Problem Clusters Example 3 K-means labels')\n",
    "plt.scatter(unbal[:,0], unbal[:,1], c=km_unbal_preds, cmap=cmap)\n",
    "plt.scatter(km_unbal.cluster_centers_[:,0], km_unbal.cluster_centers_[:,1], marker='X', s=150, c='black')"
   ]
  },
  {
   "cell_type": "markdown",
   "metadata": {},
   "source": [
    "## Bonus:\n",
    "### K-means on larger dataset\n",
    "\n",
    "You want to run a wine subscription service, but you have no idea about wine tasting notes. You are a person of science.\n",
    "You have a wine dataset of scientific measurements.\n",
    "If you know a customer likes a certain wine in the dataset, can you recommend other wines to the customer in the same cluster?\n",
    "\n",
    "Questions:\n",
    "- How many clusters are in the wine dataset?\n",
    "- What are the characteristics of each clusters?\n",
    "- What problems do you see potentially in the data?\n",
    "\n",
    "the dataset is `Wine.csv`\n",
    "the link for the dataset can be found here: https://raw.githubusercontent.com/aapeebles/kmeans_flatiron/master/Kmeans%20lesson/Wine.csv\n",
    "\n",
    "\n",
    "Instructions:\n",
    "- First, remove customer_segment from the dataset"
   ]
  },
  {
   "cell_type": "code",
   "execution_count": null,
   "metadata": {},
   "outputs": [],
   "source": [
    "# Work on problem here:\n",
    "\n",
    "\n"
   ]
  }
 ],
 "metadata": {
  "kernelspec": {
   "display_name": "Python 3",
   "language": "python",
   "name": "python3"
  },
  "language_info": {
   "codemirror_mode": {
    "name": "ipython",
    "version": 3
   },
   "file_extension": ".py",
   "mimetype": "text/x-python",
   "name": "python",
   "nbconvert_exporter": "python",
   "pygments_lexer": "ipython3",
   "version": "3.7.1"
  }
 },
 "nbformat": 4,
 "nbformat_minor": 2
}
